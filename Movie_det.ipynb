{
  "nbformat": 4,
  "nbformat_minor": 0,
  "metadata": {
    "colab": {
      "name": "Movie_det.ipynb",
      "provenance": [],
      "authorship_tag": "ABX9TyPy2Jofj6pNAeRQ7XvFANDN",
      "include_colab_link": true
    },
    "kernelspec": {
      "name": "python3",
      "display_name": "Python 3"
    },
    "language_info": {
      "name": "python"
    }
  },
  "cells": [
    {
      "cell_type": "markdown",
      "metadata": {
        "id": "view-in-github",
        "colab_type": "text"
      },
      "source": [
        "<a href=\"https://colab.research.google.com/github/sooraj9991/Movie-Details/blob/main/Movie_det.ipynb\" target=\"_parent\"><img src=\"https://colab.research.google.com/assets/colab-badge.svg\" alt=\"Open In Colab\"/></a>"
      ]
    },
    {
      "cell_type": "code",
      "metadata": {
        "id": "_dj2aiHS43ZF"
      },
      "source": [
        "import requests\n",
        "from bs4 import BeautifulSoup\n",
        "import pandas as pd\n",
        "from time import sleep\n",
        "from random import randint\n",
        "from IPython.display import clear_output"
      ],
      "execution_count": 2,
      "outputs": []
    },
    {
      "cell_type": "code",
      "metadata": {
        "id": "b5-eQtaa44AF"
      },
      "source": [
        "base_url = 'https://www.imdb.com/search/title/?release_date=2021-01-01,2021-12-31&sort=num_votes,desc&start='"
      ],
      "execution_count": 3,
      "outputs": []
    },
    {
      "cell_type": "code",
      "metadata": {
        "colab": {
          "base_uri": "https://localhost:8080/"
        },
        "id": "x1MpT_Ql44DP",
        "outputId": "77aaa0cc-8736-42ba-bbff-7a9bf0ee2025"
      },
      "source": [
        "names = []\n",
        "release_years = []\n",
        "certificates = []\n",
        "durations = []\n",
        "genres = []\n",
        "imdb_ratings = []\n",
        "metascores = []\n",
        "votes = []\n",
        "\n",
        "movie_no = 1\n",
        "\n",
        "for i in range(1,1500,50):\n",
        "  sleep(randint(3,7))\n",
        "  req = requests.get(base_url+str(i)+'&ref_=adv_nxt',headers = {'Accept-Language':'en-US, en;q=0.5'})\n",
        "  soup = BeautifulSoup(req.text,'html')\n",
        "  if movie_no > 1050:\n",
        "    break\n",
        "\n",
        "  #taking each movie in a list\n",
        "  movies_info = soup.findAll('div',attrs={'class':'lister-item-content'})\n",
        "\n",
        "  # loopin through each movie to collect details \n",
        "  for movie in movies_info:\n",
        "\n",
        "    print(f'scrapping data of movie {movie_no}')\n",
        "    clear_output(wait=True)\n",
        "    if movie_no > 1050:\n",
        "      break\n",
        "\n",
        "    movie_no += 1\n",
        "  \n",
        "    #movie name\n",
        "    movie_name = movie.find('h3',attrs={'class':'lister-item-header'})\n",
        "    if movie_name is None:\n",
        "      names.append('Not Available')\n",
        "    else:\n",
        "      names.append(movie_name.a.text)\n",
        "\n",
        "    #release year\n",
        "    release_year = movie.find('span',attrs={'class':'lister-item-year text-muted unbold'})\n",
        "    if release_year is None:\n",
        "      release_years.append('Not Available')\n",
        "    else:\n",
        "      release_years.append(release_year.text)\n",
        "\n",
        "    #certificate\n",
        "    certificate = movie.find('span',attrs={'class':'certificate'})\n",
        "    if certificate is None:\n",
        "      certificates.append(\"Not Available\")\n",
        "    else:\n",
        "      certificates.append(certificate.text)\n",
        "      #duration\n",
        "    duration = movie.find('span',attrs={'class':'runtime'})\n",
        "    if duration is None:\n",
        "      durations.append(\"Not Available\")\n",
        "    else:\n",
        "      durations.append(duration.text)\n",
        "\n",
        "    #genre\n",
        "    genre = movie.find('span',attrs={'class':'genre'})\n",
        "    if genre is None:\n",
        "      genres.append('Not Available')\n",
        "    else:\n",
        "      genres.append(genre.text.strip())\n",
        "\n",
        "    #IMDB\n",
        "    imdb = movie.find('div',attrs={'class':'inline-block ratings-imdb-rating'})\n",
        "    if imdb is None:\n",
        "      imdb_ratings.append('Not Available')\n",
        "    else:\n",
        "      imdb_ratings.append(imdb.strong.text)\n",
        "\n",
        "    #metascore\n",
        "    metascore = movie.find('div',attrs={'class':'inline-block ratings-metascore'})\n",
        "    if metascore is None:\n",
        "      metascores.append(\"Not Available\")\n",
        "    else:\n",
        "      metascores.append(metascore.span.text.strip())\n",
        "      #votes\n",
        "    vote = movie.find('span',attrs={'name':'nv'})\n",
        "    if vote is None:\n",
        "      votes.append('Not Available')\n",
        "    else:\n",
        "      votes.append(vote.text)"
      ],
      "execution_count": 8,
      "outputs": [
        {
          "output_type": "stream",
          "text": [
            "scrapping data of movie 1050\n"
          ],
          "name": "stdout"
        }
      ]
    },
    {
      "cell_type": "code",
      "metadata": {
        "id": "NfFoopHG44Jv"
      },
      "source": [
        "data = pd.DataFrame({'Movie':names,\n",
        "                   'Release Year':release_years,\n",
        "                   'Certification':certificates,\n",
        "                   'Duration':durations,\n",
        "                   'Genre':genres,\n",
        "                   'Imdb':imdb_ratings,\n",
        "                   'Metascore':metascores,\n",
        "                   'Votes':votes})"
      ],
      "execution_count": 10,
      "outputs": []
    },
    {
      "cell_type": "code",
      "metadata": {
        "id": "t6cFWkQ_7ItN"
      },
      "source": [
        "data"
      ],
      "execution_count": null,
      "outputs": []
    },
    {
      "cell_type": "code",
      "metadata": {
        "id": "58Nd9lZA44M4"
      },
      "source": [
        "data.to_csv('IMDB Movie List.csv')"
      ],
      "execution_count": 12,
      "outputs": []
    },
    {
      "cell_type": "code",
      "metadata": {
        "id": "QKnpNy4w44QB"
      },
      "source": [
        ""
      ],
      "execution_count": null,
      "outputs": []
    },
    {
      "cell_type": "code",
      "metadata": {
        "id": "TXHOfGFg44Tx"
      },
      "source": [
        ""
      ],
      "execution_count": null,
      "outputs": []
    },
    {
      "cell_type": "code",
      "metadata": {
        "id": "NpyDlAue44Wn"
      },
      "source": [
        ""
      ],
      "execution_count": null,
      "outputs": []
    },
    {
      "cell_type": "code",
      "metadata": {
        "id": "nELUE6DA44Ze"
      },
      "source": [
        ""
      ],
      "execution_count": null,
      "outputs": []
    }
  ]
}